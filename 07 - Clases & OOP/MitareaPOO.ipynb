{
 "cells": [
  {
   "cell_type": "markdown",
   "metadata": {},
   "source": [
    "1) Crear la clase vehículo que contenga los atributos:\n",
    "Color\n",
    "Si es moto, auto, camioneta ó camión\n",
    "Cilindrada del motor"
   ]
  },
  {
   "cell_type": "code",
   "execution_count": 20,
   "metadata": {},
   "outputs": [],
   "source": [
    "class Vehiculo:\n",
    "    def __init__(self, color, tipo, cilindrada):\n",
    "        self.color = color\n",
    "        self.tipo = tipo\n",
    "        self.cilindrada = cilindrada\n",
    "        \n",
    "    "
   ]
  },
  {
   "cell_type": "markdown",
   "metadata": {},
   "source": [
    "A la clase Vehiculo creada en el punto 1, agregar los siguientes métodos:\n",
    "Acelerar\n",
    "Frenar\n",
    "Doblar"
   ]
  },
  {
   "cell_type": "code",
   "execution_count": 21,
   "metadata": {},
   "outputs": [],
   "source": [
    "class Vehiculo:\n",
    "    def __init__(self, color, tipo, cilindrada):\n",
    "        self.color = color\n",
    "        self.tipo = tipo\n",
    "        self.cilindrada = cilindrada\n",
    "        self.velocidad = 0\n",
    "        self.direccion = 0\n",
    "    \n",
    "    def Acelerar(self,vel):\n",
    "        self.velocidad += vel\n",
    "\n",
    "    def Frenar(self,vel):\n",
    "        self.velocidad -= vel\n",
    "    \n",
    "    def Doblar(self, grados):\n",
    "        self.direccion += grados\n",
    "\n",
    "    "
   ]
  },
  {
   "cell_type": "markdown",
   "metadata": {},
   "source": [
    "3) Instanciar 3 objetos de la clase vehículo y ejecutar sus métodos, probar luego el resultado\n",
    "instanciar es crear un objeto de la clase o inicializarlo"
   ]
  },
  {
   "cell_type": "code",
   "execution_count": 11,
   "metadata": {},
   "outputs": [],
   "source": [
    "v1 = Vehiculo(\"verde\", \"moto\", \"600\")\n",
    "v2 = Vehiculo(\"naranja\", \"camion\", \"5000\")\n",
    "v3 = Vehiculo(\"rojo\", \"carro\", \"2000\")"
   ]
  },
  {
   "cell_type": "code",
   "execution_count": 14,
   "metadata": {},
   "outputs": [],
   "source": [
    "v1.Acelerar(30)\n",
    "v2.Acelerar(60)\n",
    "v3.Acelerar(90)\n",
    "v1.Frenar(20)\n",
    "v2.Doblar(-30)\n",
    "v3.Doblar(-45)\n"
   ]
  },
  {
   "cell_type": "markdown",
   "metadata": {},
   "source": [
    "4) Agregar a la clase Vehiculo, un método que muestre su estado, es decir, a que velocidad se encuentra y su dirección. Y otro método que muestre color, tipo y cilindrada"
   ]
  },
  {
   "cell_type": "code",
   "execution_count": 23,
   "metadata": {},
   "outputs": [],
   "source": [
    "class Vehiculo:\n",
    "    def __init__(self, color, tipo, cilindrada):\n",
    "        self.color = color\n",
    "        self.tipo = tipo\n",
    "        self.cilindrada = cilindrada\n",
    "        self.velocidad = 0\n",
    "        self.direccion = 0\n",
    "    \n",
    "    def Acelerar(self,vel):\n",
    "        self.velocidad += vel\n",
    "\n",
    "    def Frenar(self,vel):\n",
    "        self.velocidad -= vel\n",
    "    \n",
    "    def Doblar(self, grados):\n",
    "        self.direccion += grados\n",
    "\n",
    "    def Estado(self):\n",
    "        print('La velocidad del vehiculo es: ', self.velocidad, ' y la direccion', self.direccion)\n",
    "    \n",
    "    def Detalle(self):\n",
    "        print('soy', self.color, ', del tipo ',self.tipo,' y de cilindrada', self.cilindrada)\n",
    "        "
   ]
  },
  {
   "cell_type": "code",
   "execution_count": 24,
   "metadata": {},
   "outputs": [
    {
     "name": "stdout",
     "output_type": "stream",
     "text": [
      "La velocidad del vehiculo es:  0  y la direccion 0\n",
      "soy verde , del tipo  moto  y de cilindrada 600\n"
     ]
    }
   ],
   "source": [
    "v1 = Vehiculo(\"verde\", \"moto\", \"600\")\n",
    "v1.Estado()\n",
    "v1.Detalle()"
   ]
  },
  {
   "cell_type": "markdown",
   "metadata": {},
   "source": [
    "5) Crear una clase que permita utilizar las funciones creadas en la práctica del módulo 6\n",
    "Verificar Primo\n",
    "Valor modal\n",
    "Conversión grados\n",
    "Factorial"
   ]
  },
  {
   "cell_type": "code",
   "execution_count": 53,
   "metadata": {},
   "outputs": [],
   "source": [
    "class Herramientas:\n",
    "    def __init__(self) -> None:\n",
    "        pass\n",
    "\n",
    "    def Verificaprimo(self, num):\n",
    "        pri = True\n",
    "        for i in range(2,num):\n",
    "            if num%i == 0:\n",
    "                pri = False\n",
    "                break\n",
    "        return pri\n",
    "    \n",
    "    def Valormodal(self, lista, modo):\n",
    "        \n",
    "        contador = {}    \n",
    "        for num in lista:\n",
    "            if num in contador.keys():\n",
    "                contador[num] += 1            \n",
    "            else:\n",
    "                contador[num] = 1\n",
    "        moda = []\n",
    "        maximo = 0\n",
    "        for numero, repeticion in contador.items():\n",
    "            if repeticion > maximo:\n",
    "                maximo = repeticion\n",
    "                moda = [numero]\n",
    "            elif repeticion == maximo:\n",
    "                moda.append(numero)\n",
    "        if modo == 'menor':\n",
    "            masRepetido_num = min(moda)\n",
    "        elif modo == 'mayor':\n",
    "            masRepetido_num = max(moda)\n",
    "        return masRepetido_num, maximo\n",
    "    \n",
    "    def Conversorgrados(self, valor, origen, destino):\n",
    "        if origen == 'celsius':\n",
    "            if destino == 'celsius':\n",
    "                valorDestino = valor\n",
    "            elif destino == 'farenheit':\n",
    "                valorDestino = (valor * 9/5) + 32\n",
    "            elif destino == 'kelvin':\n",
    "                valorDestino = valor + 273.15\n",
    "            else:\n",
    "                print(\"Parametro de destino no valido\")\n",
    "        elif origen == 'farenheit':\n",
    "            if destino == 'farenheit':\n",
    "                valorDestino = valor\n",
    "            elif destino == 'celsius':\n",
    "                valorDestino = ((valor - 32)*5) /9\n",
    "            elif destino == 'kelvin':\n",
    "                valorDestino = ((valor - 32)*5 /9) + 273.15\n",
    "            else:\n",
    "                print(\"Parametro de destino no valido\")\n",
    "        elif origen == 'kelvin':\n",
    "            if destino == 'kelvin':\n",
    "                valorDestino = valor\n",
    "            elif destino == 'farenheit':\n",
    "                valorDestino = (valor - 273.15) * (9/5) + 32\n",
    "            elif destino == 'celsius':\n",
    "                valorDestino = (valor - 273.15) \n",
    "            else:\n",
    "                print(\"Parametro de destino no valido\")\n",
    "        else:\n",
    "            print(\"parametro de origen no valido\")\n",
    "        return valorDestino\n",
    "    \n",
    "    def Factorial(self, numero):\n",
    "        if(type(numero) != int):\n",
    "            return 'El numero debe ser un entero'\n",
    "        if(numero < 0):\n",
    "            return 'El numero debe ser pisitivo'\n",
    "        if (numero > 1):\n",
    "            numero = numero * self.Factorial(numero - 1)\n",
    "        return numero"
   ]
  },
  {
   "cell_type": "code",
   "execution_count": 54,
   "metadata": {},
   "outputs": [
    {
     "name": "stdout",
     "output_type": "stream",
     "text": [
      "True\n",
      "(5, 3)\n",
      "274.15\n",
      "120\n"
     ]
    }
   ],
   "source": [
    "h = Herramientas()\n",
    "print(h.Verificaprimo(7))\n",
    "modo = 'menor'\n",
    "lis = [10,1,5,6,8,10,22,5,6,4,11,10,9,5]\n",
    "print(h.Valormodal(lis,modo))\n",
    "print(h.Conversorgrados(1,'celsius', 'kelvin'))\n",
    "print(h.Factorial(5))"
   ]
  },
  {
   "cell_type": "markdown",
   "metadata": {},
   "source": [
    "7)Es necesario que la clase creada en el punto 5 contenga una lista, sobre la cual se apliquen las funciones incorporadas"
   ]
  },
  {
   "cell_type": "code",
   "execution_count": 22,
   "metadata": {},
   "outputs": [],
   "source": [
    "class Herramientas:\n",
    "    def __init__(self, lista_numeros):\n",
    "        self.lista = lista_numeros\n",
    "    \n",
    "    def Verificaprimo(self):\n",
    "        for i in self.lista:\n",
    "            if (self.__Verificaprimo(i)):\n",
    "                print('El elemento', i, 'SI es un numero primo')\n",
    "            else:\n",
    "                print('El elemento', i, 'NO es un numero primo')\n",
    "\n",
    "    def Conversorgrados(self, origen, destino):\n",
    "        for i in self.lista:\n",
    "            print(i, 'grados', origen, 'son', self.__Conversorgrados(i, origen, destino),'grados',destino)\n",
    "    \n",
    "    def Factorial(self):\n",
    "        for i in self.lista:\n",
    "            print('El factorial de ', i, 'es', self.__Factorial(i))\n",
    "\n",
    "    def __Verificaprimo(self, num):\n",
    "        pri = True\n",
    "        for i in range(2,num):\n",
    "            if num%i == 0:\n",
    "                pri = False\n",
    "                break\n",
    "        return pri\n",
    "    \n",
    "    def Valormodal(self, lista, modo='menor'):\n",
    "        \n",
    "        contador = {}    \n",
    "        for num in self.lista:\n",
    "            if num in contador.keys():\n",
    "                contador[num] += 1            \n",
    "            else:\n",
    "                contador[num] = 1\n",
    "        moda = []\n",
    "        maximo = 0\n",
    "        for numero, repeticion in contador.items():\n",
    "            if repeticion > maximo:\n",
    "                maximo = repeticion\n",
    "                moda = [numero]\n",
    "            elif repeticion == maximo:\n",
    "                moda.append(numero)\n",
    "        if modo == 'menor':\n",
    "            masRepetido_num = min(moda)\n",
    "        elif modo == 'mayor':\n",
    "            masRepetido_num = max(moda)\n",
    "        return masRepetido_num, maximo\n",
    "    \n",
    "    def __Conversorgrados(self, valor, origen, destino):\n",
    "        if origen == 'celsius':\n",
    "            if destino == 'celsius':\n",
    "                valorDestino = valor\n",
    "            elif destino == 'farenheit':\n",
    "                valorDestino = (valor * 9/5) + 32\n",
    "            elif destino == 'kelvin':\n",
    "                valorDestino = valor + 273.15\n",
    "            else:\n",
    "                print(\"Parametro de destino no valido\")\n",
    "        elif origen == 'farenheit':\n",
    "            if destino == 'farenheit':\n",
    "                valorDestino = valor\n",
    "            elif destino == 'celsius':\n",
    "                valorDestino = ((valor - 32)*5) /9\n",
    "            elif destino == 'kelvin':\n",
    "                valorDestino = ((valor - 32)*5 /9) + 273.15\n",
    "            else:\n",
    "                print(\"Parametro de destino no valido\")\n",
    "        elif origen == 'kelvin':\n",
    "            if destino == 'kelvin':\n",
    "                valorDestino = valor\n",
    "            elif destino == 'farenheit':\n",
    "                valorDestino = (valor - 273.15) * (9/5) + 32\n",
    "            elif destino == 'celsius':\n",
    "                valorDestino = (valor - 273.15) \n",
    "            else:\n",
    "                print(\"Parametro de destino no valido\")\n",
    "        else:\n",
    "            print(\"parametro de origen no valido\")\n",
    "        return valorDestino\n",
    "    \n",
    "    def __Factorial(self, numero):\n",
    "        if(type(numero) != int):\n",
    "            return 'El numero debe ser un entero'\n",
    "        if(numero < 0):\n",
    "            return 'El numero debe ser pisitivo'\n",
    "        if (numero > 1):\n",
    "            numero = numero * self.__Factorial(numero - 1)\n",
    "        return numero"
   ]
  },
  {
   "cell_type": "code",
   "execution_count": 23,
   "metadata": {},
   "outputs": [],
   "source": [
    "h = Herramientas([1,1,2,5,8,8,9,11,15,16,16,16,18,20])"
   ]
  },
  {
   "cell_type": "code",
   "execution_count": null,
   "metadata": {},
   "outputs": [],
   "source": [
    "h.Conversorgrados('celsius','farenheit')"
   ]
  },
  {
   "cell_type": "code",
   "execution_count": null,
   "metadata": {},
   "outputs": [],
   "source": [
    "h.Verificaprimo()"
   ]
  },
  {
   "cell_type": "code",
   "execution_count": 24,
   "metadata": {},
   "outputs": [
    {
     "name": "stdout",
     "output_type": "stream",
     "text": [
      "El valor modal es 16 y se reptie 3 veces\n"
     ]
    }
   ],
   "source": [
    "moda, repe = h.Valormodal(False)\n",
    "print('El valor modal es', moda, 'y se reptie', repe, 'veces')"
   ]
  },
  {
   "cell_type": "code",
   "execution_count": 25,
   "metadata": {},
   "outputs": [
    {
     "name": "stdout",
     "output_type": "stream",
     "text": [
      "El factorial de  1 es 1\n",
      "El factorial de  1 es 1\n",
      "El factorial de  2 es 2\n",
      "El factorial de  5 es 120\n",
      "El factorial de  8 es 40320\n",
      "El factorial de  8 es 40320\n",
      "El factorial de  9 es 362880\n",
      "El factorial de  11 es 39916800\n",
      "El factorial de  15 es 1307674368000\n",
      "El factorial de  16 es 20922789888000\n",
      "El factorial de  16 es 20922789888000\n",
      "El factorial de  16 es 20922789888000\n",
      "El factorial de  18 es 6402373705728000\n",
      "El factorial de  20 es 2432902008176640000\n"
     ]
    }
   ],
   "source": [
    "h.Factorial()"
   ]
  },
  {
   "cell_type": "markdown",
   "metadata": {},
   "source": [
    "8) Crear un archivo .py aparte y ubicar allí la clase generada en el punto anterior. Luego realizar la importación del módulo y probar alguna de sus funcione."
   ]
  },
  {
   "cell_type": "code",
   "execution_count": 26,
   "metadata": {},
   "outputs": [],
   "source": [
    "from Herramientas import *"
   ]
  },
  {
   "cell_type": "code",
   "execution_count": 30,
   "metadata": {},
   "outputs": [],
   "source": [
    "lis = Herramientas([10,1,5,6,8,10,22,5,6,4,11,10,9,5])\n"
   ]
  },
  {
   "cell_type": "code",
   "execution_count": 32,
   "metadata": {},
   "outputs": [
    {
     "name": "stdout",
     "output_type": "stream",
     "text": [
      "El elemento 10 NO es un numero primo\n",
      "El elemento 1 SI es un numero primo\n",
      "El elemento 5 SI es un numero primo\n",
      "El elemento 6 NO es un numero primo\n",
      "El elemento 8 NO es un numero primo\n",
      "El elemento 10 NO es un numero primo\n",
      "El elemento 22 NO es un numero primo\n",
      "El elemento 5 SI es un numero primo\n",
      "El elemento 6 NO es un numero primo\n",
      "El elemento 4 NO es un numero primo\n",
      "El elemento 11 SI es un numero primo\n",
      "El elemento 10 NO es un numero primo\n",
      "El elemento 9 NO es un numero primo\n",
      "El elemento 5 SI es un numero primo\n"
     ]
    }
   ],
   "source": [
    "lis.Verificaprimo()"
   ]
  }
 ],
 "metadata": {
  "kernelspec": {
   "display_name": "Python 3",
   "language": "python",
   "name": "python3"
  },
  "language_info": {
   "codemirror_mode": {
    "name": "ipython",
    "version": 3
   },
   "file_extension": ".py",
   "mimetype": "text/x-python",
   "name": "python",
   "nbconvert_exporter": "python",
   "pygments_lexer": "ipython3",
   "version": "3.11.4"
  },
  "orig_nbformat": 4
 },
 "nbformat": 4,
 "nbformat_minor": 2
}
