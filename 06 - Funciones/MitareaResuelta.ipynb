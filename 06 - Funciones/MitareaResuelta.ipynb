{
 "cells": [
  {
   "cell_type": "code",
   "execution_count": null,
   "metadata": {},
   "outputs": [],
   "source": [
    "#EJEMPLO DE RECURSIVIDAD\n",
    "def factorial(numero):\n",
    "    if (numero > 1):\n",
    "        numero = numero * factorial(numero - 1)\n",
    "    return numero"
   ]
  },
  {
   "cell_type": "code",
   "execution_count": null,
   "metadata": {},
   "outputs": [],
   "source": [
    "#EJEMPLO FUNCION LAMBDA\n",
    "lambda_producto = lambda x, y: x * y\n",
    "lambda_producto(3, 4)"
   ]
  },
  {
   "attachments": {},
   "cell_type": "markdown",
   "metadata": {},
   "source": [
    "1) Crear una función que reciba un número como parámetro y devuelva si True si es primo y False si no lo es\n"
   ]
  },
  {
   "cell_type": "code",
   "execution_count": 3,
   "metadata": {},
   "outputs": [
    {
     "data": {
      "text/plain": [
       "True"
      ]
     },
     "execution_count": 3,
     "metadata": {},
     "output_type": "execute_result"
    }
   ],
   "source": [
    "def primo(num):\n",
    "    pri = True\n",
    "    for i in range(2,num):\n",
    "        if num%i == 0:\n",
    "            pri = False\n",
    "            break\n",
    "    return pri\n",
    "\n",
    "primo(7)"
   ]
  },
  {
   "attachments": {},
   "cell_type": "markdown",
   "metadata": {},
   "source": [
    "2) Utilizando la función del punto 1, realizar otra función que reciba de parámetro una lista de números y devuelva sólo aquellos que son primos en otra lista"
   ]
  },
  {
   "cell_type": "code",
   "execution_count": 4,
   "metadata": {},
   "outputs": [
    {
     "data": {
      "text/plain": [
       "[1, 2, 3, 5, 7, 11, 13, 17, 19]"
      ]
     },
     "execution_count": 4,
     "metadata": {},
     "output_type": "execute_result"
    }
   ],
   "source": [
    "def extraer_primos(lista):\n",
    "    listaPrimos = []\n",
    "    for elemento in lista:\n",
    "        if primo(int(elemento)):\n",
    "            listaPrimos.append(elemento)\n",
    "    return listaPrimos\n",
    "\n",
    "lis_completa = [1,2,3,4,5,6,7,8,9,10,11,12,13,14,15,16,17,18,19,20]\n",
    "ListaDePris = extraer_primos(lis_completa)\n",
    "ListaDePris\n",
    "\n",
    "    "
   ]
  },
  {
   "attachments": {},
   "cell_type": "markdown",
   "metadata": {},
   "source": [
    "3) Crear una función que al recibir una lista de números, devuelva el que más se repite y cuántas veces lo hace. Si hay más de un \"más repetido\", que devuelva cualquiera"
   ]
  },
  {
   "cell_type": "code",
   "execution_count": 7,
   "metadata": {},
   "outputs": [
    {
     "data": {
      "text/plain": [
       "(5, 4)"
      ]
     },
     "execution_count": 7,
     "metadata": {},
     "output_type": "execute_result"
    }
   ],
   "source": [
    "def masRepetido(lista):\n",
    "    contador = {}    \n",
    "    for num in lista:\n",
    "        if num in contador.keys():\n",
    "            contador[num] += 1            \n",
    "        else:\n",
    "            contador[num] = 1\n",
    "    moda = None\n",
    "    maximo = 0\n",
    "    for numero, repeticion in contador.items():\n",
    "        if repeticion > maximo:\n",
    "            maximo = repeticion\n",
    "            moda = numero\n",
    "    return moda, maximo\n",
    "    \n",
    "lis = [10,1,5,6,8,10,22,5,6,4,11,10,9,5,5]\n",
    "masRepetido(lis)"
   ]
  },
  {
   "attachments": {},
   "cell_type": "markdown",
   "metadata": {},
   "source": [
    "4)A la función del punto 3, agregar un parámetro más, que permita elegir si se requiere el menor o el mayor de los mas repetidos"
   ]
  },
  {
   "cell_type": "code",
   "execution_count": 15,
   "metadata": {},
   "outputs": [
    {
     "data": {
      "text/plain": [
       "(5, 3)"
      ]
     },
     "execution_count": 15,
     "metadata": {},
     "output_type": "execute_result"
    }
   ],
   "source": [
    "def masRepetido(lista, modo):\n",
    "    contador = {}    \n",
    "    for num in lista:\n",
    "        if num in contador.keys():\n",
    "            contador[num] += 1            \n",
    "        else:\n",
    "            contador[num] = 1\n",
    "    moda = []\n",
    "    maximo = 0\n",
    "    for numero, repeticion in contador.items():\n",
    "        if repeticion > maximo:\n",
    "            maximo = repeticion\n",
    "            moda = [numero]\n",
    "        elif repeticion == maximo:\n",
    "            moda.append(numero)\n",
    "    if modo == 'menor':\n",
    "        masRepetido_num = min(moda)\n",
    "    elif modo == 'mayor':\n",
    "        masRepetido_num = max(moda)\n",
    "    return masRepetido_num, maximo\n",
    "\n",
    "\n",
    "lis = [10,1,5,6,8,10,22,5,6,4,11,10,9,5]\n",
    "masRepetido(lis, 'menor')"
   ]
  },
  {
   "attachments": {},
   "cell_type": "markdown",
   "metadata": {},
   "source": [
    "5)Crear una función que convierta entre grados Celsius, Farenheit y Kelvin\n",
    "Fórmula 1 : (°C × 9/5) + 32 = °F\n",
    "Fórmula 2 : °C + 273.15 = °K\n",
    "Debe recibir 3 parámetros: el valor, la medida de orígen y la medida de destino"
   ]
  },
  {
   "cell_type": "code",
   "execution_count": 20,
   "metadata": {},
   "outputs": [
    {
     "name": "stdout",
     "output_type": "stream",
     "text": [
      "255.92777777777775\n"
     ]
    }
   ],
   "source": [
    "def conversor(valor,origen,destino):\n",
    "    if origen == 'celsius':\n",
    "        if destino == 'celsius':\n",
    "            valorDestino = valor\n",
    "        elif destino == 'farenheit':\n",
    "            valorDestino = (valor * 9/5) + 32\n",
    "        elif destino == 'kelvin':\n",
    "            valorDestino = valor + 273.15\n",
    "        else:\n",
    "            print(\"Parametro de destino no valido\")\n",
    "    elif origen == 'farenheit':\n",
    "        if destino == 'farenheit':\n",
    "            valorDestino = valor\n",
    "        elif destino == 'celsius':\n",
    "            valorDestino = ((valor - 32)*5) /9\n",
    "        elif destino == 'kelvin':\n",
    "            valorDestino = ((valor - 32)*5 /9) + 273.15\n",
    "        else:\n",
    "            print(\"Parametro de destino no valido\")\n",
    "    elif origen == 'kelvin':\n",
    "        if destino == 'kelvin':\n",
    "            valorDestino = valor\n",
    "        elif destino == 'farenheit':\n",
    "            valorDestino = (valor - 273.15) * (9/5) + 32\n",
    "        elif destino == 'celsius':\n",
    "            valorDestino = (valor - 273.15) \n",
    "        else:\n",
    "            print(\"Parametro de destino no valido\")\n",
    "    else:\n",
    "        print(\"parametro de origen no valido\")\n",
    "    return valorDestino\n",
    "\n",
    "x = conversor(1,'farenheit','kelvin')\n",
    "print(x)\n",
    "\n",
    "\n",
    "\n",
    "    "
   ]
  },
  {
   "attachments": {},
   "cell_type": "markdown",
   "metadata": {},
   "source": [
    "6) Iterando una lista con los tres valores posibles de temperatura que recibe la función del punto 5, hacer un print para cada combinación de los mismos:"
   ]
  },
  {
   "cell_type": "code",
   "execution_count": 25,
   "metadata": {},
   "outputs": [
    {
     "name": "stdout",
     "output_type": "stream",
     "text": [
      "20 grados celsius a celsius : 20\n",
      "20 grados celsius a kelvin : 293.15\n",
      "20 grados celsius a farenheit : 68.0\n",
      "20 grados kelvin a celsius : -253.14999999999998\n",
      "20 grados kelvin a kelvin : 20\n",
      "20 grados kelvin a farenheit : -423.66999999999996\n",
      "20 grados farenheit a celsius : -6.666666666666667\n",
      "20 grados farenheit a kelvin : 266.4833333333333\n",
      "20 grados farenheit a farenheit : 20\n"
     ]
    }
   ],
   "source": [
    "unidades = ['celsius','kelvin','farenheit']\n",
    "temperatura = 20\n",
    "for i in unidades:\n",
    "    for j in unidades:\n",
    "        conversion = conversor(temperatura,i,j)\n",
    "        print('20 grados',i, 'a', j,':', conversor(20, i, j))"
   ]
  },
  {
   "attachments": {},
   "cell_type": "markdown",
   "metadata": {},
   "source": [
    "7)Armar una función que devuelva el factorial de un número. Tener en cuenta que el usuario puede equivocarse y enviar de parámetro un número no entero o negativo"
   ]
  },
  {
   "cell_type": "code",
   "execution_count": 26,
   "metadata": {},
   "outputs": [
    {
     "name": "stdout",
     "output_type": "stream",
     "text": [
      "120\n"
     ]
    }
   ],
   "source": [
    "def factorial(numero):\n",
    "    if(type(numero) != int):\n",
    "        return 'El numero debe ser un entero'\n",
    "    if(numero < 0):\n",
    "        return 'El numero debe ser pisitivo'\n",
    "    if (numero > 1):\n",
    "        numero = numero * factorial(numero - 1)\n",
    "    return numero\n",
    "\n",
    "print(factorial(5))"
   ]
  }
 ],
 "metadata": {
  "kernelspec": {
   "display_name": "Python 3",
   "language": "python",
   "name": "python3"
  },
  "language_info": {
   "codemirror_mode": {
    "name": "ipython",
    "version": 3
   },
   "file_extension": ".py",
   "mimetype": "text/x-python",
   "name": "python",
   "nbconvert_exporter": "python",
   "pygments_lexer": "ipython3",
   "version": "3.11.4"
  },
  "orig_nbformat": 4
 },
 "nbformat": 4,
 "nbformat_minor": 2
}
